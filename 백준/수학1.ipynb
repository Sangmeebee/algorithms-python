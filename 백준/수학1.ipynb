{
 "cells": [
  {
   "cell_type": "markdown",
   "metadata": {},
   "source": [
    "## 1712번 (손익분기점)"
   ]
  },
  {
   "cell_type": "code",
   "execution_count": 5,
   "metadata": {},
   "outputs": [
    {
     "name": "stdout",
     "output_type": "stream",
     "text": [
      "1000 70 170\n",
      "11\n"
     ]
    }
   ],
   "source": [
    "a, b, c = map(int, input().split())\n",
    "result = 1\n",
    "if c <= b :\n",
    "    result = -1\n",
    "else : \n",
    "    result = a//(c-b)+1\n",
    "print(result)"
   ]
  },
  {
   "cell_type": "markdown",
   "metadata": {},
   "source": [
    "## 2839번 (설탕 배달) X"
   ]
  },
  {
   "cell_type": "code",
   "execution_count": 30,
   "metadata": {},
   "outputs": [
    {
     "name": "stdout",
     "output_type": "stream",
     "text": [
      "8\n",
      "2\n"
     ]
    }
   ],
   "source": [
    "total = int(input())\n",
    "cnt=0\n",
    "while True :\n",
    "    if total % 5 == 0 :\n",
    "        cnt += total // 5\n",
    "        print(cnt)\n",
    "        break\n",
    "    total -= 3\n",
    "    cnt += 1\n",
    "    if total < 0 :\n",
    "        print('-1')\n",
    "        break"
   ]
  },
  {
   "cell_type": "markdown",
   "metadata": {},
   "source": [
    "## 2292번 (벌집) X"
   ]
  },
  {
   "cell_type": "code",
   "execution_count": 18,
   "metadata": {},
   "outputs": [
    {
     "name": "stdout",
     "output_type": "stream",
     "text": [
      "18\n",
      "3\n"
     ]
    }
   ],
   "source": [
    "N = int(input())\n",
    "first = 1\n",
    "step = 6\n",
    "res = 1\n",
    "while True :\n",
    "    if N <= first :\n",
    "        print(res)\n",
    "        break\n",
    "    else :\n",
    "        res += 1\n",
    "        first += step\n",
    "        step += 6"
   ]
  },
  {
   "cell_type": "markdown",
   "metadata": {},
   "source": [
    "## 1193번 (분수찾기) X"
   ]
  },
  {
   "cell_type": "code",
   "execution_count": 27,
   "metadata": {},
   "outputs": [
    {
     "name": "stdout",
     "output_type": "stream",
     "text": [
      "14\n",
      "2/4\n"
     ]
    }
   ],
   "source": [
    "X=int(input())\n",
    "step=1\n",
    "while X>step :\n",
    "    X-=step\n",
    "    step+=1\n",
    "if step%2==0 :\n",
    "    a=X\n",
    "    b=step+1-X\n",
    "else :\n",
    "    a=step+1-X\n",
    "    b=X\n",
    "print(a,'/',b,sep='')"
   ]
  },
  {
   "cell_type": "markdown",
   "metadata": {},
   "source": [
    "## 2869번 (달팽이는 올라가고 싶다) X"
   ]
  },
  {
   "cell_type": "code",
   "execution_count": 36,
   "metadata": {},
   "outputs": [
    {
     "name": "stdout",
     "output_type": "stream",
     "text": [
      "2 1 5\n",
      "4\n"
     ]
    }
   ],
   "source": [
    "a, b, v = map(int, input().split())\n",
    "res = (v-b)/(a-b)\n",
    "print(int(res) if res == int(res) else int(res) + 1)"
   ]
  },
  {
   "cell_type": "markdown",
   "metadata": {},
   "source": [
    "## 10250번 (ACM 호텔)"
   ]
  },
  {
   "cell_type": "code",
   "execution_count": 45,
   "metadata": {},
   "outputs": [
    {
     "name": "stdout",
     "output_type": "stream",
     "text": [
      "1\n",
      "6 12 6\n",
      "2\n"
     ]
    }
   ],
   "source": [
    "T = int(input())\n",
    "for _ in range(T) :\n",
    "    H, W, N = map(int, (input().split()))\n",
    "    a = N%H\n",
    "    b = N//H+1\n",
    "    if a==0 :\n",
    "        a = H\n",
    "        b -= 1\n",
    "    print(a*100+b)"
   ]
  },
  {
   "cell_type": "markdown",
   "metadata": {},
   "source": [
    "## 2775번 (부녀회장이 될테야) X"
   ]
  },
  {
   "cell_type": "code",
   "execution_count": 58,
   "metadata": {},
   "outputs": [
    {
     "name": "stdout",
     "output_type": "stream",
     "text": [
      "1\n",
      "1\n",
      "1\n",
      "1\n"
     ]
    }
   ],
   "source": [
    "t = int(input())\n",
    "for _ in range(t) :\n",
    "    k = int(input()); n = int(input())\n",
    "    v = [i for i in range(1, n+1)]\n",
    "    for _ in range(k) :\n",
    "        for i in range(1, n) :\n",
    "            v[i]+=v[i-1]\n",
    "    print(v[n-1])"
   ]
  },
  {
   "cell_type": "markdown",
   "metadata": {},
   "source": [
    "## 1011번 (Fly me to the Alpha Centauri)"
   ]
  },
  {
   "cell_type": "code",
   "execution_count": null,
   "metadata": {},
   "outputs": [],
   "source": [
    "t = int(input())\n",
    "for _ in range(t) :\n",
    "    a, b = map(int, input().split())\n",
    "    dis = b-a\n",
    "    if dis <= 3 :\n",
    "        print(dis)\n",
    "    else :\n",
    "        v = 2\n",
    "        while 1 :\n",
    "            if dis < v**2+1 :\n",
    "                if dis < (v-1)*v+1 :\n",
    "                    print(v*2-2)\n",
    "                else :\n",
    "                    print(v*2 -1)\n",
    "                break\n",
    "            elif dis == v**2+1 :\n",
    "                print(v*2)\n",
    "                break\n",
    "            else :\n",
    "                v+=1"
   ]
  }
 ],
 "metadata": {
  "kernelspec": {
   "display_name": "Python 3",
   "language": "python",
   "name": "python3"
  },
  "language_info": {
   "codemirror_mode": {
    "name": "ipython",
    "version": 3
   },
   "file_extension": ".py",
   "mimetype": "text/x-python",
   "name": "python",
   "nbconvert_exporter": "python",
   "pygments_lexer": "ipython3",
   "version": "3.6.5"
  }
 },
 "nbformat": 4,
 "nbformat_minor": 4
}
