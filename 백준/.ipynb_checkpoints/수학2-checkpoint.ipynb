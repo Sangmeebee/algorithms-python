{
 "cells": [
  {
   "cell_type": "markdown",
   "metadata": {},
   "source": [
    "## 1978번 (소수 찾기)"
   ]
  },
  {
   "cell_type": "code",
   "execution_count": 11,
   "metadata": {},
   "outputs": [
    {
     "name": "stdout",
     "output_type": "stream",
     "text": [
      "1\n",
      "1 2 3 4 5\n",
      "2\n"
     ]
    }
   ],
   "source": [
    "n = int(input())\n",
    "a = list(map(int, input().split()))\n",
    "res = 0\n",
    "for i in a :\n",
    "    cnt = 0\n",
    "    for j in range(1, i+1) :\n",
    "        if i%j ==0 :\n",
    "            cnt+=1\n",
    "    if cnt == 2 :\n",
    "        res+=1\n",
    "print(res)"
   ]
  },
  {
   "cell_type": "markdown",
   "metadata": {},
   "source": [
    "## 2581번 (소수) X"
   ]
  },
  {
   "cell_type": "code",
   "execution_count": 16,
   "metadata": {},
   "outputs": [
    {
     "name": "stdout",
     "output_type": "stream",
     "text": [
      "60\n",
      "100\n",
      "620\n",
      "61\n"
     ]
    }
   ],
   "source": [
    "m = int(input())\n",
    "n = int(input())\n",
    "res = []\n",
    "for i in range(m, n+1) :\n",
    "    cnt = 0\n",
    "    for j in range(1, i+1) :\n",
    "        if i%j == 0 :\n",
    "            cnt+=1\n",
    "            if cnt > 2 :\n",
    "                break\n",
    "    if cnt==2 :\n",
    "        res.append(i)\n",
    "if len(res) > 0 :\n",
    "    print(sum(res))\n",
    "    print(res[0])\n",
    "else :\n",
    "    print(-1)"
   ]
  },
  {
   "cell_type": "markdown",
   "metadata": {},
   "source": [
    "## 1929번 (소수 구하기)"
   ]
  },
  {
   "cell_type": "code",
   "execution_count": 34,
   "metadata": {},
   "outputs": [
    {
     "name": "stdout",
     "output_type": "stream",
     "text": [
      "1 20\n",
      "2\n",
      "3\n",
      "5\n",
      "7\n",
      "11\n",
      "13\n",
      "17\n",
      "19\n"
     ]
    }
   ],
   "source": [
    "m, n = map(int, input().split())\n",
    "for i in range(m, n+1) :\n",
    "    if i==1 :\n",
    "        continue\n",
    "    cnt = 0\n",
    "    for j in range(1, int(i**0.5)+1) :\n",
    "        if i%j==0 :\n",
    "            cnt+=1\n",
    "            if cnt > 1 :\n",
    "                break\n",
    "    if cnt == 1 :\n",
    "        print(i)"
   ]
  },
  {
   "cell_type": "markdown",
   "metadata": {},
   "source": [
    "## 4948번 (베르트랑 공준) X - 에라토스테네스의 체"
   ]
  },
  {
   "cell_type": "code",
   "execution_count": null,
   "metadata": {},
   "outputs": [],
   "source": [
    "def prime_list(n) :\n",
    "    sieve = [True]*n\n",
    "    m = int(n ** 0.5)\n",
    "    for i in range(2, m+1) :\n",
    "        if sieve[i] == True :\n",
    "            for j in range(i+i, n, i) :\n",
    "                sieve[j] = False\n",
    "    return [i for i in range(2, n) if sieve[i]==True]\n",
    "while True :\n",
    "    n = int(input())\n",
    "    res = 0\n",
    "    if n == 0 :\n",
    "        break\n",
    "    print(len([i for i in prime_list(2*n+1) if i>n]))"
   ]
  },
  {
   "cell_type": "markdown",
   "metadata": {},
   "source": [
    "## 9020번 (골드바흐의 추측)"
   ]
  },
  {
   "cell_type": "code",
   "execution_count": 20,
   "metadata": {},
   "outputs": [
    {
     "name": "stdout",
     "output_type": "stream",
     "text": [
      "4\n",
      "8\n",
      "3 5\n",
      "10\n",
      "5 5\n",
      "16\n",
      "5 11\n",
      "20\n",
      "7 13\n"
     ]
    }
   ],
   "source": [
    "def prime_list(n) :\n",
    "    sieve = [True]*n\n",
    "    m = int(n**0.5)\n",
    "    for i in range(2, m+1) :\n",
    "        if sieve[i] == True :\n",
    "            for j in range(i+i, n, i) :\n",
    "                sieve[j] = False\n",
    "    return [i for i in range(2, n) if sieve[i]]\n",
    "\n",
    "def prime_sum(n) :\n",
    "    li = prime_list(n)\n",
    "    idx = max([i for i in range(len(li)) if li[i] <= n/2])\n",
    "    for i in range(idx, -1, -1) :\n",
    "        for j in range(i, len(li)) :\n",
    "            if li[i]+li[j] == n :\n",
    "                return [li[i], li[j]]\n",
    "\n",
    "for _ in range(int(input())) :\n",
    "    n = int(input())\n",
    "    print(\" \".join(map(str, prime_sum(n))))"
   ]
  },
  {
   "cell_type": "markdown",
   "metadata": {},
   "source": [
    "## 1085번 (직사각형에서 탈출)"
   ]
  },
  {
   "cell_type": "code",
   "execution_count": 24,
   "metadata": {},
   "outputs": [
    {
     "name": "stdout",
     "output_type": "stream",
     "text": [
      "6 2 10 3\n",
      "1\n"
     ]
    }
   ],
   "source": [
    "x, y, w, h = map(int, input().split())\n",
    "print(min(min(w-x, x-0), min(h-y, y-0)))"
   ]
  },
  {
   "cell_type": "markdown",
   "metadata": {},
   "source": [
    "## 3009번 (네 번째 점)"
   ]
  },
  {
   "cell_type": "code",
   "execution_count": 30,
   "metadata": {},
   "outputs": [
    {
     "name": "stdout",
     "output_type": "stream",
     "text": [
      "30 20\n",
      "10 10\n",
      "30 10\n",
      "10 20\n"
     ]
    }
   ],
   "source": [
    "x = []\n",
    "y = []\n",
    "resx = 0\n",
    "resy = 0\n",
    "for _ in range(3) :\n",
    "    a, b = map(int, input().split())\n",
    "    x.append(a)\n",
    "    y.append(b)\n",
    "for i in x :\n",
    "    if x.count(i) == 1 :\n",
    "        resx = i\n",
    "for i in y :\n",
    "    if y.count(i)==1 :\n",
    "        resy = i\n",
    "print(resx, resy)"
   ]
  },
  {
   "cell_type": "markdown",
   "metadata": {},
   "source": [
    "## 4153번 (직각삼각형)"
   ]
  },
  {
   "cell_type": "code",
   "execution_count": 46,
   "metadata": {},
   "outputs": [
    {
     "name": "stdout",
     "output_type": "stream",
     "text": [
      "3 4 5\n",
      "right\n",
      "0 0 0\n"
     ]
    }
   ],
   "source": [
    "while True :\n",
    "    li = sorted(list(map(int, input().split())))\n",
    "    x, y, z = li\n",
    "    if sum(li) == 0 :\n",
    "        break\n",
    "    if z**2 == x**2+y**2 :\n",
    "        print('right')\n",
    "    else :\n",
    "        print('wrong')\n"
   ]
  },
  {
   "cell_type": "markdown",
   "metadata": {},
   "source": [
    "## 3053번 (택시 기하학)"
   ]
  },
  {
   "cell_type": "code",
   "execution_count": 52,
   "metadata": {},
   "outputs": [
    {
     "name": "stdout",
     "output_type": "stream",
     "text": [
      "1\n",
      "3.1416\n",
      "2\n"
     ]
    }
   ],
   "source": [
    "import math\n",
    "r = int(input())\n",
    "print(round(r*r*math.pi, 4))\n",
    "print(round(2*r*r, 4))"
   ]
  },
  {
   "cell_type": "markdown",
   "metadata": {},
   "source": [
    "## 1002번 (터렛) X"
   ]
  },
  {
   "cell_type": "code",
   "execution_count": 55,
   "metadata": {},
   "outputs": [
    {
     "name": "stdout",
     "output_type": "stream",
     "text": [
      "3\n",
      "0 0 13 40 0 37\n",
      "2\n",
      "0 0 3 0 7 4\n",
      "1\n",
      "1 1 1 1 1 5\n",
      "0\n"
     ]
    }
   ],
   "source": [
    "for _ in range(int(input())) :\n",
    "    x1, y1, r1, x2, y2, r2 = map(int, input().split())\n",
    "    d = ((x2-x1)**2 + (y2-y1)**2)**0.5\n",
    "    rs = r1+r2\n",
    "    rm = abs(r1-r2)\n",
    "    if d==0 :\n",
    "        if r1==r2 :\n",
    "            print(-1)\n",
    "        else :\n",
    "            print(0)\n",
    "    else :\n",
    "        if d == rs or d == rm :\n",
    "            print(1)\n",
    "        elif d < rs and d > rm :\n",
    "            print(2)\n",
    "        else :\n",
    "            print(0)"
   ]
  }
 ],
 "metadata": {
  "kernelspec": {
   "display_name": "Python 3",
   "language": "python",
   "name": "python3"
  },
  "language_info": {
   "codemirror_mode": {
    "name": "ipython",
    "version": 3
   },
   "file_extension": ".py",
   "mimetype": "text/x-python",
   "name": "python",
   "nbconvert_exporter": "python",
   "pygments_lexer": "ipython3",
   "version": "3.6.5"
  }
 },
 "nbformat": 4,
 "nbformat_minor": 4
}
