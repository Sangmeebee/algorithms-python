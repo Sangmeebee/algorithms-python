{
 "cells": [
  {
   "cell_type": "markdown",
   "metadata": {},
   "source": [
    "## 10818번(최소, 최대)"
   ]
  },
  {
   "cell_type": "code",
   "execution_count": null,
   "metadata": {},
   "outputs": [],
   "source": [
    "import sys\n",
    "N = int(input())\n",
    "l = list(map(int, sys.stdin.readline().split()))\n",
    "print(min(l), max(l))"
   ]
  },
  {
   "cell_type": "markdown",
   "metadata": {},
   "source": [
    "## 2562번 (최댓값)"
   ]
  },
  {
   "cell_type": "code",
   "execution_count": 12,
   "metadata": {},
   "outputs": [
    {
     "name": "stdout",
     "output_type": "stream",
     "text": [
      "1\n",
      "2\n",
      "3\n",
      "4\n",
      "5\n",
      "6\n",
      "7\n",
      "85\n",
      "9\n",
      "85\n",
      "8\n"
     ]
    }
   ],
   "source": [
    "a = []\n",
    "for i in range(9) :\n",
    "    a.append(int(input()))\n",
    "value = max(a)\n",
    "count = 0\n",
    "for i in a :\n",
    "    count+=1\n",
    "    if value==i :\n",
    "        break\n",
    "print(value)\n",
    "print(count)"
   ]
  },
  {
   "cell_type": "markdown",
   "metadata": {},
   "source": [
    "## 2257번 (숫자의 개수)"
   ]
  },
  {
   "cell_type": "code",
   "execution_count": 1,
   "metadata": {},
   "outputs": [
    {
     "name": "stdout",
     "output_type": "stream",
     "text": [
      "120\n",
      "120\n",
      "120\n",
      "3\n",
      "1\n",
      "1\n",
      "0\n",
      "0\n",
      "0\n",
      "0\n",
      "1\n",
      "1\n",
      "0\n"
     ]
    }
   ],
   "source": [
    "A = int(input())\n",
    "B = int(input())\n",
    "C = int(input())\n",
    "result = A*B*C\n",
    "result = list(str(result))\n",
    "for i in range(10) :\n",
    "    print(result.count(str(i)))\n",
    "    "
   ]
  },
  {
   "cell_type": "markdown",
   "metadata": {},
   "source": [
    "## 3053번 (나머지)"
   ]
  },
  {
   "cell_type": "code",
   "execution_count": 15,
   "metadata": {},
   "outputs": [
    {
     "name": "stdout",
     "output_type": "stream",
     "text": [
      "1\n",
      "2\n",
      "3\n",
      "4\n",
      "5\n",
      "1\n",
      "2\n",
      "3\n",
      "4\n",
      "5\n",
      "5\n"
     ]
    }
   ],
   "source": [
    "result = set([int(input())%42 for _ in range(10)])\n",
    "print(len(result))"
   ]
  },
  {
   "cell_type": "markdown",
   "metadata": {},
   "source": [
    "## 1546번 (평균)"
   ]
  },
  {
   "cell_type": "code",
   "execution_count": null,
   "metadata": {},
   "outputs": [],
   "source": [
    "import sys\n",
    "N = int(input())\n",
    "i = list(map(int, sys.stdin.readline().split()))\n",
    "result = [a/max(i)*100 for a in i]\n",
    "sum = 0\n",
    "for i in result :\n",
    "    sum += i\n",
    "print(sum/len(result))"
   ]
  },
  {
   "cell_type": "markdown",
   "metadata": {},
   "source": [
    "## 61923번 (OX 퀴즈)"
   ]
  },
  {
   "cell_type": "code",
   "execution_count": null,
   "metadata": {},
   "outputs": [],
   "source": [
    "T = int(input())\n",
    "for i in range(T) :\n",
    "    a = input()\n",
    "    result = 0\n",
    "    cnt = 0\n",
    "    for j in a :\n",
    "        if j == 'O' :\n",
    "            cnt +=1\n",
    "            result +=cnt\n",
    "        else :\n",
    "            cnt = 0\n",
    "    print(result)"
   ]
  },
  {
   "cell_type": "markdown",
   "metadata": {},
   "source": [
    "## 4344번 (평균은 넘겠지)"
   ]
  },
  {
   "cell_type": "code",
   "execution_count": null,
   "metadata": {},
   "outputs": [],
   "source": [
    "C = int(input())\n",
    "for i in range(C):\n",
    "    N = list(map(int, input().split(' ')))\n",
    "    avg = sum(N[1:]) / N[0]\n",
    "    cnt = 0\n",
    "    for j in N[1:]:\n",
    "        if j > avg : \n",
    "            cnt += 1\n",
    "            \n",
    "    print(str(\"%.3f\" %round((cnt/N[0])*100, 3))+\"%\")"
   ]
  }
 ],
 "metadata": {
  "kernelspec": {
   "display_name": "Python 3",
   "language": "python",
   "name": "python3"
  },
  "language_info": {
   "codemirror_mode": {
    "name": "ipython",
    "version": 3
   },
   "file_extension": ".py",
   "mimetype": "text/x-python",
   "name": "python",
   "nbconvert_exporter": "python",
   "pygments_lexer": "ipython3",
   "version": "3.6.5"
  }
 },
 "nbformat": 4,
 "nbformat_minor": 4
}
