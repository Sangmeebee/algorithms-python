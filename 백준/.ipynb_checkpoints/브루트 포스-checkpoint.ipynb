{
 "cells": [
  {
   "cell_type": "markdown",
   "metadata": {},
   "source": [
    "## 2798번 (블랙잭)"
   ]
  },
  {
   "cell_type": "code",
   "execution_count": 1,
   "metadata": {},
   "outputs": [
    {
     "name": "stdout",
     "output_type": "stream",
     "text": [
      "10 500\n",
      "93 181 245 214 315 36 185 138 216 295\n",
      "497\n"
     ]
    }
   ],
   "source": [
    "n, m = map(int, input().split())\n",
    "card = list(map(int, input().split()))\n",
    "length = len(card)\n",
    "res = 0\n",
    "for i in range(length-2) :\n",
    "    for j in range(i+1, length-1) :\n",
    "        for k in range(j+1, length) :\n",
    "            if card[i]+card[j]+card[k] > m :\n",
    "                continue\n",
    "            else :\n",
    "                res = max(res, card[i]+card[j]+card[k])\n",
    "print(res)"
   ]
  },
  {
   "cell_type": "markdown",
   "metadata": {},
   "source": [
    "## 2231번 (분해합)"
   ]
  },
  {
   "cell_type": "code",
   "execution_count": 13,
   "metadata": {},
   "outputs": [
    {
     "name": "stdout",
     "output_type": "stream",
     "text": [
      "216\n",
      "198\n"
     ]
    }
   ],
   "source": [
    "n = int(input())\n",
    "res = n+1\n",
    "for i in range(1, n+1) :\n",
    "    a = i + sum(list(map(int, str(i))))\n",
    "    if a == n :\n",
    "        res= min(res, i)\n",
    "if res == n+1 :\n",
    "    print(0)\n",
    "else :\n",
    "    print(res)\n",
    "    "
   ]
  },
  {
   "cell_type": "markdown",
   "metadata": {},
   "source": [
    "## 7568번 (덩치) X"
   ]
  },
  {
   "cell_type": "code",
   "execution_count": 21,
   "metadata": {},
   "outputs": [
    {
     "name": "stdout",
     "output_type": "stream",
     "text": [
      "5\n",
      "55 185\n",
      "58 183\n",
      "88 186\n",
      "60 175\n",
      "46 155\n",
      "2 2 1 2 5 "
     ]
    }
   ],
   "source": [
    "li = []\n",
    "for _ in range(int(input())) :\n",
    "    li.append(list(map(int, input().split())))\n",
    "for i in li :\n",
    "    rank = 1\n",
    "    for j in li :\n",
    "        if i[0] < j[0] and i[1] < j[1] :\n",
    "            rank+=1\n",
    "    print(rank, end=' ')"
   ]
  },
  {
   "cell_type": "markdown",
   "metadata": {},
   "source": [
    "## 1018번 (체스판 다시 칠하기) X"
   ]
  },
  {
   "cell_type": "code",
   "execution_count": 63,
   "metadata": {},
   "outputs": [
    {
     "name": "stdout",
     "output_type": "stream",
     "text": [
      "3 3\n",
      "12345\n",
      "55555\n",
      "44444\n",
      "[['1', '2', '3', '4', '5'], ['5', '5', '5', '5', '5'], ['4', '4', '4', '4', '4']]\n"
     ]
    }
   ],
   "source": [
    "#####실패"
   ]
  },
  {
   "cell_type": "markdown",
   "metadata": {},
   "source": [
    "## 1436번 (영화감독 숌)"
   ]
  },
  {
   "cell_type": "code",
   "execution_count": 59,
   "metadata": {},
   "outputs": [
    {
     "name": "stdout",
     "output_type": "stream",
     "text": [
      "10\n",
      "6663\n"
     ]
    }
   ],
   "source": [
    "n = int(input())\n",
    "i = 666\n",
    "cnt = 0\n",
    "while True :\n",
    "    if '666' in str(i) :\n",
    "        cnt+=1\n",
    "    if cnt == n :\n",
    "        break\n",
    "    i+=1\n",
    "print(i)"
   ]
  }
 ],
 "metadata": {
  "kernelspec": {
   "display_name": "Python 3",
   "language": "python",
   "name": "python3"
  },
  "language_info": {
   "codemirror_mode": {
    "name": "ipython",
    "version": 3
   },
   "file_extension": ".py",
   "mimetype": "text/x-python",
   "name": "python",
   "nbconvert_exporter": "python",
   "pygments_lexer": "ipython3",
   "version": "3.6.5"
  }
 },
 "nbformat": 4,
 "nbformat_minor": 4
}
