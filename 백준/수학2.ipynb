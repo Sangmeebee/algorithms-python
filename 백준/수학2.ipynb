{
 "cells": [
  {
   "cell_type": "markdown",
   "metadata": {},
   "source": [
    "## 1978번 (소수 찾기)"
   ]
  },
  {
   "cell_type": "code",
   "execution_count": 11,
   "metadata": {},
   "outputs": [
    {
     "name": "stdout",
     "output_type": "stream",
     "text": [
      "1\n",
      "1 2 3 4 5\n",
      "2\n"
     ]
    }
   ],
   "source": [
    "n = int(input())\n",
    "a = list(map(int, input().split()))\n",
    "res = 0\n",
    "for i in a :\n",
    "    cnt = 0\n",
    "    for j in range(1, i+1) :\n",
    "        if i%j ==0 :\n",
    "            cnt+=1\n",
    "    if cnt == 2 :\n",
    "        res+=1\n",
    "print(res)"
   ]
  },
  {
   "cell_type": "markdown",
   "metadata": {},
   "source": [
    "## 2581번 (소수) X"
   ]
  },
  {
   "cell_type": "code",
   "execution_count": 16,
   "metadata": {},
   "outputs": [
    {
     "name": "stdout",
     "output_type": "stream",
     "text": [
      "60\n",
      "100\n",
      "620\n",
      "61\n"
     ]
    }
   ],
   "source": [
    "m = int(input())\n",
    "n = int(input())\n",
    "res = []\n",
    "for i in range(m, n+1) :\n",
    "    cnt = 0\n",
    "    for j in range(1, i+1) :\n",
    "        if i%j == 0 :\n",
    "            cnt+=1\n",
    "            if cnt > 2 :\n",
    "                break\n",
    "    if cnt==2 :\n",
    "        res.append(i)\n",
    "if len(res) > 0 :\n",
    "    print(sum(res))\n",
    "    print(res[0])\n",
    "else :\n",
    "    print(-1)"
   ]
  },
  {
   "cell_type": "markdown",
   "metadata": {},
   "source": [
    "## 1929번 (소수 구하기)"
   ]
  },
  {
   "cell_type": "code",
   "execution_count": 34,
   "metadata": {},
   "outputs": [
    {
     "name": "stdout",
     "output_type": "stream",
     "text": [
      "1 20\n",
      "2\n",
      "3\n",
      "5\n",
      "7\n",
      "11\n",
      "13\n",
      "17\n",
      "19\n"
     ]
    }
   ],
   "source": [
    "m, n = map(int, input().split())\n",
    "for i in range(m, n+1) :\n",
    "    if i==1 :\n",
    "        continue\n",
    "    cnt = 0\n",
    "    for j in range(1, int(i**0.5)+1) :\n",
    "        if i%j==0 :\n",
    "            cnt+=1\n",
    "            if cnt > 1 :\n",
    "                break\n",
    "    if cnt == 1 :\n",
    "        print(i)"
   ]
  }
 ],
 "metadata": {
  "kernelspec": {
   "display_name": "Python 3",
   "language": "python",
   "name": "python3"
  },
  "language_info": {
   "codemirror_mode": {
    "name": "ipython",
    "version": 3
   },
   "file_extension": ".py",
   "mimetype": "text/x-python",
   "name": "python",
   "nbconvert_exporter": "python",
   "pygments_lexer": "ipython3",
   "version": "3.6.5"
  }
 },
 "nbformat": 4,
 "nbformat_minor": 4
}
