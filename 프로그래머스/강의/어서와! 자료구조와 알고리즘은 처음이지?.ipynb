{
 "cells": [
  {
   "cell_type": "markdown",
   "metadata": {},
   "source": [
    "# 1강\n",
    "### 리스트 원소 합\n",
    "입력으로 주어지는 리스트 x 의 첫 원소와 마지막 원소의 합을 리턴하는 함수 solution() 을 완성하세요."
   ]
  },
  {
   "cell_type": "code",
   "execution_count": null,
   "metadata": {},
   "outputs": [],
   "source": [
    "def solution(x):\n",
    "    answer = x[0] + x[-1]\n",
    "    return answer"
   ]
  },
  {
   "cell_type": "markdown",
   "metadata": {},
   "source": [
    "# 2강 선형 배열"
   ]
  },
  {
   "cell_type": "markdown",
   "metadata": {},
   "source": [
    "### 정렬된 리스트에 원소 삽입\n",
    "리스트 L 과 정수 x 가 인자로 주어질 때, 리스트 내의 올바른 위치에 x 를 삽입하여 그 결과 리스트를 반환하는 함수 solution 을 완성하세요.\n",
    "\n",
    "인자로 주어지는 리스트 L 은 정수 원소들로 이루어져 있으며 크기에 따라 (오름차순으로) 정렬되어 있다고 가정합니다.\n",
    "\n",
    "예를 들어, L = [20, 37, 58, 72, 91] 이고 x = 65 인 경우, 올바른 리턴 값은 [20, 37, 58, 65, 72, 91] 입니다.\n",
    "\n",
    "힌트: 순환문을 이용하여 올바른 위치를 결정하고 insert() 메서드를 이용하여 삽입하는 것이 한 가지 방법입니다.\n",
    "\n",
    "주의: 리스트 내에 존재하는 모든 원소들보다 작거나 모든 원소들보다 큰 정수가 주어지는 경우에 대해서도 올바르게 처리해야 합니다."
   ]
  },
  {
   "cell_type": "code",
   "execution_count": null,
   "metadata": {},
   "outputs": [],
   "source": [
    "def solution(L, x):\n",
    "    if L[-1] <= x :\n",
    "        L.append(x)\n",
    "    else :\n",
    "        idx = 0\n",
    "        while L[idx] <= x :\n",
    "            idx+=1\n",
    "        L.insert(idx, x)\n",
    "    return L"
   ]
  },
  {
   "cell_type": "markdown",
   "metadata": {},
   "source": [
    "### 리스트에서 원소 찾아내기\n",
    "인자로 주어지는 리스트 L 내에서, 또한 인자로 주어지는 원소 x 가 발견되는 모든 인덱스를 구하여 이 인덱스들로 이루어진 리스트를 반환하는 함수 solution 을 완성하세요.\n",
    "\n",
    "리스트 L 은 정수들로 이루어져 있고 그 순서는 임의로 부여되어 있다고 가정하며, 동일한 원소가 반복하여 들어 있을 수 있습니다. 이 안에 정수 x 가 존재하면 그것들을 모두 발견하여 해당 인덱스들을 리스트로 만들어 반환하고, 만약 존재하지 않으면 하나의 원소로 이루어진 리스트 [-1] 를 반환하는 함수를 완성하세요.\n",
    "\n",
    "예를 들어, L = [64, 72, 83, 72, 54] 이고 x = 72 인 경우의 올바른 리턴 값은 [1, 3] 입니다.\n",
    "또 다른 예를 들어, L = [64, 72, 83, 72, 54] 이고 x = 83 인 경우의 올바른 리턴 값은 [2] 입니다.\n",
    "마지막으로 또 다른 예를 들어, L = [64, 72, 83, 72, 54] 이고 x = 49 인 경우의 올바른 리턴 값은 [-1] 입니다.\n",
    "\n",
    "힌트 1: 리스트의 index() 메서드와 리스트 슬라이싱을 활용하는 것이 한 가지 방법이 됩니다. 리스트 슬라이싱은 아래와 같이 동작합니다.\n",
    "\n",
    "L = [6, 2, 8, 7, 3] 인 경우\n",
    "L[1:3] = [2, 8]\n",
    "L[2:] = [8, 7, 3]\n",
    "L[:3] = [6, 2, 8]\n",
    "\n",
    "힌트 2: 리스트의 index() 메서드는, 인자로 주어지는 원소가 리스트 내에 존재하지 않을 때 ValueError 를 일으킵니다. 이것을 try ... except 로 처리해도 되고, if x in L 과 같은 조건문으로 특정 원소가 리스트 내에 존재하는지를 판단해도 됩니다."
   ]
  },
  {
   "cell_type": "code",
   "execution_count": null,
   "metadata": {},
   "outputs": [],
   "source": [
    "def solution(L, x):\n",
    "    if x not in L :\n",
    "        return [-1]\n",
    "    answer = []\n",
    "    idx=-1\n",
    "    while x in L[idx+1:] :\n",
    "        idx += L[idx+1:].index(x)+1\n",
    "        answer.append(idx)\n",
    "    return answer"
   ]
  },
  {
   "cell_type": "code",
   "execution_count": 38,
   "metadata": {},
   "outputs": [],
   "source": [
    "def solution(L, x) :\n",
    "    if x in L :\n",
    "        return [i for i, v in enumerate(L) if v==x]\n",
    "    else :\n",
    "        return [-1]"
   ]
  },
  {
   "cell_type": "markdown",
   "metadata": {},
   "source": [
    "# 3강 배열 더 알아보기 : 정렬과 탐색"
   ]
  },
  {
   "cell_type": "markdown",
   "metadata": {},
   "source": [
    "1. sorted, sort 메소드\n",
    "2. sorted(L, key=lambda x : len(x), reverse=True)\n",
    "3. sorted(L, key=lambda x : x['name'])\n",
    "3. 정렬된 상태에선 이진 탐색이 가능하다\n",
    "4. 선형 탐색 : O(n) / 이진 탐색 : O(logn)"
   ]
  },
  {
   "cell_type": "markdown",
   "metadata": {},
   "source": [
    "### 이진 탐색\n",
    "리스트 L 과, 그 안에서 찾으려 하는 원소 x 가 인자로 주어질 때, x 와 같은 값을 가지는 원소의 인덱스를 리턴하는 함수 solution() 을 완성하세요. 만약 리스트 L 안에 x 와 같은 값을 가지는 원소가 존재하지 않는 경우에는 -1 을 리턴합니다. 리스트 L 은 자연수 원소들로 이루어져 있으며, 크기 순으로 정렬되어 있다고 가정합니다. 또한, 동일한 원소는 두 번 이상 나타나지 않습니다.\n",
    "\n",
    "예를 들어,\n",
    "L = [2, 3, 5, 6, 9, 11, 15]\n",
    "x = 6\n",
    "의 인자들이 주어지면, L[3] == 6 이므로 3 을 리턴해야 합니다.\n",
    "\n",
    "또 다른 예로,\n",
    "L = [2, 5, 7, 9, 11]\n",
    "x = 4\n",
    "로 주어지면, 리스트 L 내에 4 의 원소가 존재하지 않으므로 -1 을 리턴해야 합니다.\n",
    "\n",
    "이 연습문제에서는 알고리즘의 효율성도 평가합니다. 만약 순차 (선형) 탐색 알고리즘을 구현하는 경우에는 제한 시간 요구사항을 만족하지 못하여 효율성 테스트 케이스들을 통과하지 못할 수도 있습니다."
   ]
  },
  {
   "cell_type": "code",
   "execution_count": 62,
   "metadata": {},
   "outputs": [],
   "source": [
    "def solution(L, x):\n",
    "    start = 0\n",
    "    end = len(L) - 1\n",
    "\n",
    "    while(start <= end):\n",
    "        mid = (start+end) // 2\n",
    "        if L[mid] == x:\n",
    "            return mid\n",
    "        elif L[mid] < x:\n",
    "            start = mid+1\n",
    "        else:\n",
    "            end = mid-1\n",
    "    return -1"
   ]
  },
  {
   "cell_type": "markdown",
   "metadata": {},
   "source": [
    "# 4강 재귀 알고리즘(Recursive Alogorithms) - 기초\n",
    "함수에서 자신을 다시 호출하여 작업을 수행\n",
    "1. 이진 트리에서 사용\n",
    "2. 재귀 함수는 종결조건이 반드시 필요하다.\n",
    "3. 재귀는 항상 반복문으로 작성할 수 있다. \n",
    "4. 재귀 = O(n) / 반복 = O(n)\n",
    "5. But) 함수를 호출하고 리턴하는 과정이 재귀에는 있으므로 효율성을 떨어진다. \n",
    "6. 사람이 생각하는 방식을 표현하기에 좋기에 사용된다.\n",
    "7. n(n+1)/2 = 1~n까지의 합"
   ]
  },
  {
   "cell_type": "markdown",
   "metadata": {},
   "source": [
    "### 피보나치 순열\n",
    "인자로 0 또는 양의 정수인 x 가 주어질 때, Fibonacci 순열의 해당 값을 구하여 반환하는 함수 solution() 을 완성하세요.\n",
    "\n",
    "Fibonacci 순열은 아래와 같이 정의됩니다.\n",
    "F0 = 0\n",
    "F1 = 1\n",
    "Fn = Fn - 1 + Fn - 2, n >= 2\n",
    "\n",
    "재귀함수 작성 연습을 의도한 것이므로, 재귀적 방법으로도 프로그래밍해 보고, 반복적 방법으로도 프로그래밍해 보시기 바랍니다."
   ]
  },
  {
   "cell_type": "code",
   "execution_count": null,
   "metadata": {},
   "outputs": [],
   "source": [
    "def fibonachi(x):\n",
    "    if x <= 1 :\n",
    "        return x\n",
    "    return fibonachi(x-2) + fibonachi(x-1)\n",
    "def solution(x):\n",
    "    answer = fibonachi(x)\n",
    "    return answer"
   ]
  },
  {
   "cell_type": "code",
   "execution_count": null,
   "metadata": {},
   "outputs": [],
   "source": [
    "def solution(x):\n",
    "    if x <=1 :\n",
    "        return x\n",
    "    res = [0, 1]\n",
    "    while x > 1 :\n",
    "        res.append(res[len(res)-2]+res[len(res)-1])\n",
    "        print(res)\n",
    "        x-=1\n",
    "    answer = res[-1]\n",
    "    return answer"
   ]
  },
  {
   "cell_type": "markdown",
   "metadata": {},
   "source": [
    "# 5강 재귀 알고리즘(Recursive Alogorithms) - 응용\n",
    "하노이의 탑 : 반복적인 방법으로 구현하면 효율성은 좋겠지만 구현하기가 매우 복잡"
   ]
  },
  {
   "cell_type": "markdown",
   "metadata": {},
   "source": [
    "L[l] > x or L[u] < x\n",
    "\n",
    "solution(L, x, l, mid-1)\n",
    "\n",
    "solution(L, x, mid+1, u)"
   ]
  },
  {
   "cell_type": "markdown",
   "metadata": {},
   "source": [
    "# 6강 알고리즘의 복잡도\n",
    "\n",
    "선형 시간 알고리즘 - O(n) : n개의 무작위로 나열된 수에서 최댓값을 찾기 위해 선형 탐색 알고리즘을 적용\n",
    "\n",
    "로그 시간 알고리즘 - O(logn) : n개의 크기 순으로 정렬된 수에서 특정 값을 찾기 위해 이진 탐색 알고리즘을 적용\n",
    "\n",
    "이차 시간 알고리즘 = O(n^2) : 삽입 정렬\n",
    "\n",
    "병합 정렬 = O(nlongn) : 정렬 문제에 대해 O(nlogn) 보다 낮은 복잡도를 갖는 알고리즘은 존재하지 않는다."
   ]
  },
  {
   "cell_type": "markdown",
   "metadata": {},
   "source": [
    "# 7강 연결리스트\n",
    "\n",
    "젤 앞 노드 : Head\n",
    "맨 끝 노드 : Tail\n",
    "노드의 수 \n",
    "\n",
    "연산 정의\n",
    "1. 특정 원소 참조(k번째)\n",
    "2. 리스트 순회\n",
    "3. 길이 얻어내기\n",
    "4. 원소 삽입\n",
    "5. 원소 삭제\n",
    "6. 두 리스트 합치기\n",
    "\n",
    "class Node:\n",
    "    def __init__(self, item) :\n",
    "        self.data = item\n",
    "        self.next = None\n",
    "        \n",
    "class LinkedList :\n",
    "    def __init__(self) :\n",
    "        self.nodeCount = 0\n",
    "        self.head = None\n",
    "        self.tail = None"
   ]
  },
  {
   "cell_type": "code",
   "execution_count": 1,
   "metadata": {},
   "outputs": [],
   "source": [
    "    def traverse(self):\n",
    "        res = []\n",
    "        curr = self.head\n",
    "        while curr!=None :\n",
    "            res.append(curr.data)\n",
    "            curr = curr.next \n",
    "        return res"
   ]
  },
  {
   "cell_type": "markdown",
   "metadata": {},
   "source": [
    "# 8강 연결리스트\n",
    "\n",
    "### 원소의 삽입\n",
    "\n",
    "삽입 하려는 위치가 리스트 맨 앞일 때\n",
    "-> prev 없음 / Head 조정 필요\n",
    "\n",
    "삽입하려는 위치가 리스트 맨 끝일 때\n",
    "-> Tail 조정 필요\n",
    "\n",
    "빈 리스트에 삽입할 때\n",
    "-> 앞에 두 조건을 잘 처리하면 자동으로 처리 된다\n",
    "\n",
    "코드)\n",
    "\n",
    "def insertAt(self, pos, newNode) :\n",
    "\n",
    "    if pos < 1 or pos > self.nodeCount+1 :\n",
    "        return False\n",
    "\n",
    "    if pos==1 :\n",
    "        newNode.next = self.head\n",
    "        self.head = newNode\n",
    "\n",
    "    else :\n",
    "        if pos == self.nodeCount+1 :\n",
    "            prev = self.tail\n",
    "        else :\n",
    "            prev = self.getAt(pos-1)\n",
    "        newNode.next = prev.next\n",
    "        prev.next = newNode\n",
    "\n",
    "    if pos == self.nodeCount+1 :\n",
    "        self.tail = newNode\n",
    "    \n",
    "    self.nodeCount += 1\n",
    "    return True\n",
    "\n",
    "#### 연결리스트 원소 삽입의 복잡도\n",
    "\n",
    "1) 맨 앞에 삽입하는 경우 : O(1)\n",
    "\n",
    "2) 중간에 삽입하는 경우 : O(n)\n",
    "\n",
    "3) 맨 끝에 삽입하는 경우 : O(1)\n",
    "\n",
    "\n",
    "### 원소의 삭제\n",
    "\n",
    "삭제 하려는 위치가 리스트 맨 앞일 때\n",
    "-> prev 없음 / Head 조정 필요\n",
    "\n",
    "삭제하려는 위치가 리스트 맨 끝일 때\n",
    "-> Tail 조정 필요\n",
    "\n",
    "유일한 노드를 삭제할 때\n",
    "-> 주의!\n",
    "\n",
    "#### 연결리스트 원소 삭제의 복잡도\n",
    "\n",
    "1) 맨 앞에 삭제하는 경우 : O(1)\n",
    "\n",
    "2) 중간에 삭제하는 경우 : O(n)\n",
    "\n",
    "3) 맨 끝에 삭제하는 경우 : O(n)\n",
    "\n",
    "### 두 리스트의 연결\n",
    "concat"
   ]
  },
  {
   "cell_type": "code",
   "execution_count": null,
   "metadata": {},
   "outputs": [],
   "source": [
    "    def popAt(self, pos):\n",
    "        if pos < 1 or pos > self.nodeCount :\n",
    "            raise IndexError\n",
    "        if pos == 1:\n",
    "            if self.nodeCount == 1 :\n",
    "                self.tail = None\n",
    "            rnode = self.head\n",
    "            self.head = rnode.next\n",
    "\n",
    "        else :\n",
    "            prev = self.getAt(pos-1)\n",
    "            if pos == self.nodeCount :\n",
    "                self.tail = prev\n",
    "            rnode = prev.next\n",
    "            prev.next = rnode.next\n",
    "\n",
    "        self.nodeCount-=1\n",
    "        return rnode.data"
   ]
  },
  {
   "cell_type": "markdown",
   "metadata": {},
   "source": [
    "# 9강 연결리스트\n",
    "\n",
    "연결리스트의 최대 장점은 삽입과 삭제가 유연하다는 것이다\n",
    "\n",
    "prev = self.getAt(pos -1) 라는 코드 자체가 앞에서 부터 찾아 오는 것이므로 삽입과 삭제하는데 효율적이지 않다.\n",
    "\n",
    "그래서 insertAfter(prev, newNode) / popAfter(prev) 메소드를 만들자\n",
    "\n",
    "LinkedList 맨 앞에 dummy node를 추가한다."
   ]
  },
  {
   "cell_type": "code",
   "execution_count": null,
   "metadata": {},
   "outputs": [],
   "source": [
    "    def reverse(self):\n",
    "        curr = self.tail\n",
    "        result = []\n",
    "        while curr.prev.prev is not None :\n",
    "            curr = curr.prev\n",
    "            result.append(curr.data)\n",
    "        return result"
   ]
  },
  {
   "cell_type": "code",
   "execution_count": 1,
   "metadata": {},
   "outputs": [],
   "source": [
    "    def insertBefore(self, next, newNode):\n",
    "        newNode.prev = next.prev\n",
    "        newNode.next = next.prev.next\n",
    "        next.prev.next = newNode\n",
    "        next.prev = newNode\n",
    "        self.nodeCount += 1\n",
    "        return True"
   ]
  },
  {
   "cell_type": "code",
   "execution_count": 2,
   "metadata": {},
   "outputs": [],
   "source": [
    "    def popAfter(self, prev):\n",
    "        if prev.next == self.tail :\n",
    "            return None\n",
    "        curr = prev.next\n",
    "        prev.next = curr.next\n",
    "        curr.next.prev = prev\n",
    "        self.nodeCount-=1\n",
    "        return curr.data\n",
    "\n",
    "\n",
    "    def popBefore(self, next):\n",
    "        if next.prev == self.head :\n",
    "            return None\n",
    "        curr = next.prev\n",
    "        next.prev = curr.prev\n",
    "        curr.prev.next = curr.next\n",
    "        self.nodeCount-=1\n",
    "        return curr.data\n",
    "\n",
    "    def popAt(self, pos):\n",
    "        if pos < 1 or pos > self.nodeCount :\n",
    "            raise IndexError\n",
    "        if pos < self.nodeCount//2 :\n",
    "            curr = self.getAt(pos+1)\n",
    "            return self.popBefore(curr)\n",
    "        else :\n",
    "            curr = self.getAt(pos-1)\n",
    "            return self.popAfter(curr)"
   ]
  },
  {
   "cell_type": "code",
   "execution_count": 1,
   "metadata": {},
   "outputs": [],
   "source": [
    "    def concat(self, L):\n",
    "        if L.nodeCount != 0 :\n",
    "            self.tail.prev.next = L.head.next\n",
    "            L.head.next.prev = self.tail.prev\n",
    "            self.tail = L.tail\n",
    "            self.nodeCount += L.nodeCount"
   ]
  },
  {
   "cell_type": "markdown",
   "metadata": {},
   "source": [
    "# 11강 스택\n",
    "\n",
    "자료를 보관할 수 있는 선형 구조\n",
    "후입선출\n",
    "\n",
    "스택 언더플로우 : 스택이 비어있는 상태에서 데이터 원소를 꺼내려 할 때\n",
    "스택 오버플로우 : 스택이 꽉차있는 상태에서 데이터 원소를 넣으려 할 때\n",
    "\n",
    "1. 배열(리스트)를 이용한 구현\n",
    "2. 양방향 연결리스트를 이용한 구현\n",
    "\n",
    "연산의 정의\n",
    "1. size()\n",
    "2. isEmpty()\n",
    "3. push(x)\n",
    "4. pop() : 제거/반환\n",
    "5. peek() : 반환\n",
    "\n",
    "!! from pythonds.basic.stack import Stack (Python에서 구현한 stack 자료구조 이용)\n",
    "\n",
    "실전 문제에선 수식의 괄호 유효성 검사 문제가 나올 수 있다. (ex) 괄호를 열고 닫지 않는 경우)\n",
    "-> 여는 괄호를 만나면 스택에 푸쉬 \n",
    "-> 닫는 괄호를 만나면 \n",
    "    1. 스택이 비어 있으면 올바르지 않음\n",
    "    2. 스택의 pop을 이용해 쌍을 이루는 여는 괄호인지 검사 (맞지 않으면 올바르지 않음)"
   ]
  },
  {
   "cell_type": "code",
   "execution_count": null,
   "metadata": {},
   "outputs": [],
   "source": [
    "S.push(c)\n",
    "S.isEmpty()\n",
    "t=S.pop()\n",
    "match[c]\n",
    "S.isEmpty()"
   ]
  },
  {
   "cell_type": "markdown",
   "metadata": {},
   "source": [
    "# 12강 스택의 응용 - 수식의 후위 표기법\n",
    "\n",
    "AB+CD+* : 후위 표현식\n",
    "\n",
    "스택을 이용해서 중위표현식을 후위 표현식으로 변경 \n",
    "1. 연산자를 스택에 넣고 다른 연산자가 들어왔을 때 기존의 연산자가 다른 연산자보다 우선순위가 높거나 같을 때 pop한다\n",
    "2. 여는 괄호는 스택에 push, 닫는 괄호를 만나면 여는 괄호가 나올 때까지 pop (여는 괄호는 우선순위를 가장 낮게 설정)\n",
    "\n",
    "\n",
    "알고리즘 설계 :\n",
    "1. 연산자의 우선순위 결정\n",
    "~~~\n",
    "prec = { '*':3, '/':3, '+':2, '-':2, '(':1}\n",
    "~~~\n",
    "2. 중위 표현식을 왼쪽부터 한 글자씩 읽어서\n",
    "    피연산자면 그냥 출력\n",
    "    '('이면 스택에 push\n",
    "    ')'이면 '('이 나올 때까지 스택에서 pop, 출력\n",
    "    연산자이면 스택에서 이보다 높거나 같은 우선순위의 것들을 pop, 출력\n",
    "    연산자는 push\n",
    "3. 수식이 끝났을 때 스택에 남아있는 연산자는 모두 pop, 출력\n"
   ]
  },
  {
   "cell_type": "code",
   "execution_count": 17,
   "metadata": {},
   "outputs": [
    {
     "data": {
      "text/plain": [
       "'AB+C-'"
      ]
     },
     "execution_count": 17,
     "metadata": {},
     "output_type": "execute_result"
    }
   ],
   "source": [
    "class ArrayStack:\n",
    "\n",
    "    def __init__(self):\n",
    "        self.data = []\n",
    "\n",
    "    def size(self):\n",
    "        return len(self.data)\n",
    "\n",
    "    def isEmpty(self):\n",
    "        return self.size() == 0\n",
    "\n",
    "    def push(self, item):\n",
    "        self.data.append(item)\n",
    "\n",
    "    def pop(self):\n",
    "        return self.data.pop()\n",
    "\n",
    "    def peek(self):\n",
    "        return self.data[-1]\n",
    "\n",
    "prec = {\n",
    "    '*': 3, '/': 3,\n",
    "    '+': 2, '-': 2,\n",
    "    '(': 1\n",
    "}\n",
    "\n",
    "def solution(S):\n",
    "    opStack = ArrayStack()\n",
    "    answer = ''\n",
    "    for i in S :\n",
    "        if i == '(' :\n",
    "            opStack.push(i)\n",
    "        elif i == ')' :\n",
    "            while opStack.peek() != '(' :\n",
    "                answer+=opStack.pop()\n",
    "            opStack.pop()\n",
    "        else:\n",
    "            if i in prec :\n",
    "                if opStack.isEmpty() :\n",
    "                    opStack.push(i)\n",
    "                else :\n",
    "                    while not opStack.isEmpty() and prec[i] <= prec[opStack.peek()] :\n",
    "                        answer+=opStack.pop()\n",
    "                    opStack.push(i)\n",
    "            else :\n",
    "                answer+=i\n",
    "    while not opStack.isEmpty() :\n",
    "        answer+= opStack.pop()\n",
    "    return answer\n",
    "\n",
    "solution('A+B-C')"
   ]
  }
 ],
 "metadata": {
  "kernelspec": {
   "display_name": "Python 3",
   "language": "python",
   "name": "python3"
  },
  "language_info": {
   "codemirror_mode": {
    "name": "ipython",
    "version": 3
   },
   "file_extension": ".py",
   "mimetype": "text/x-python",
   "name": "python",
   "nbconvert_exporter": "python",
   "pygments_lexer": "ipython3",
   "version": "3.6.5"
  }
 },
 "nbformat": 4,
 "nbformat_minor": 4
}
