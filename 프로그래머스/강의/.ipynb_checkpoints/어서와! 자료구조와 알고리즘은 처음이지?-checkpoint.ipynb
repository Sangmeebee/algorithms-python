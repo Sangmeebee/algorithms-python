{
 "cells": [
  {
   "cell_type": "markdown",
   "metadata": {},
   "source": [
    "# 1강\n",
    "### 리스트 원소 합\n",
    "입력으로 주어지는 리스트 x 의 첫 원소와 마지막 원소의 합을 리턴하는 함수 solution() 을 완성하세요."
   ]
  },
  {
   "cell_type": "code",
   "execution_count": null,
   "metadata": {},
   "outputs": [],
   "source": [
    "def solution(x):\n",
    "    answer = x[0] + x[-1]\n",
    "    return answer"
   ]
  },
  {
   "cell_type": "markdown",
   "metadata": {},
   "source": [
    "# 2강 선형 배열"
   ]
  },
  {
   "cell_type": "markdown",
   "metadata": {},
   "source": [
    "### 정렬된 리스트에 원소 삽입\n",
    "리스트 L 과 정수 x 가 인자로 주어질 때, 리스트 내의 올바른 위치에 x 를 삽입하여 그 결과 리스트를 반환하는 함수 solution 을 완성하세요.\n",
    "\n",
    "인자로 주어지는 리스트 L 은 정수 원소들로 이루어져 있으며 크기에 따라 (오름차순으로) 정렬되어 있다고 가정합니다.\n",
    "\n",
    "예를 들어, L = [20, 37, 58, 72, 91] 이고 x = 65 인 경우, 올바른 리턴 값은 [20, 37, 58, 65, 72, 91] 입니다.\n",
    "\n",
    "힌트: 순환문을 이용하여 올바른 위치를 결정하고 insert() 메서드를 이용하여 삽입하는 것이 한 가지 방법입니다.\n",
    "\n",
    "주의: 리스트 내에 존재하는 모든 원소들보다 작거나 모든 원소들보다 큰 정수가 주어지는 경우에 대해서도 올바르게 처리해야 합니다."
   ]
  },
  {
   "cell_type": "code",
   "execution_count": null,
   "metadata": {},
   "outputs": [],
   "source": [
    "def solution(L, x):\n",
    "    if L[-1] <= x :\n",
    "        L.append(x)\n",
    "    else :\n",
    "        idx = 0\n",
    "        while L[idx] <= x :\n",
    "            idx+=1\n",
    "        L.insert(idx, x)\n",
    "    return L"
   ]
  },
  {
   "cell_type": "markdown",
   "metadata": {},
   "source": [
    "### 리스트에서 원소 찾아내기\n",
    "인자로 주어지는 리스트 L 내에서, 또한 인자로 주어지는 원소 x 가 발견되는 모든 인덱스를 구하여 이 인덱스들로 이루어진 리스트를 반환하는 함수 solution 을 완성하세요.\n",
    "\n",
    "리스트 L 은 정수들로 이루어져 있고 그 순서는 임의로 부여되어 있다고 가정하며, 동일한 원소가 반복하여 들어 있을 수 있습니다. 이 안에 정수 x 가 존재하면 그것들을 모두 발견하여 해당 인덱스들을 리스트로 만들어 반환하고, 만약 존재하지 않으면 하나의 원소로 이루어진 리스트 [-1] 를 반환하는 함수를 완성하세요.\n",
    "\n",
    "예를 들어, L = [64, 72, 83, 72, 54] 이고 x = 72 인 경우의 올바른 리턴 값은 [1, 3] 입니다.\n",
    "또 다른 예를 들어, L = [64, 72, 83, 72, 54] 이고 x = 83 인 경우의 올바른 리턴 값은 [2] 입니다.\n",
    "마지막으로 또 다른 예를 들어, L = [64, 72, 83, 72, 54] 이고 x = 49 인 경우의 올바른 리턴 값은 [-1] 입니다.\n",
    "\n",
    "힌트 1: 리스트의 index() 메서드와 리스트 슬라이싱을 활용하는 것이 한 가지 방법이 됩니다. 리스트 슬라이싱은 아래와 같이 동작합니다.\n",
    "\n",
    "L = [6, 2, 8, 7, 3] 인 경우\n",
    "L[1:3] = [2, 8]\n",
    "L[2:] = [8, 7, 3]\n",
    "L[:3] = [6, 2, 8]\n",
    "\n",
    "힌트 2: 리스트의 index() 메서드는, 인자로 주어지는 원소가 리스트 내에 존재하지 않을 때 ValueError 를 일으킵니다. 이것을 try ... except 로 처리해도 되고, if x in L 과 같은 조건문으로 특정 원소가 리스트 내에 존재하는지를 판단해도 됩니다."
   ]
  },
  {
   "cell_type": "code",
   "execution_count": null,
   "metadata": {},
   "outputs": [],
   "source": [
    "def solution(L, x):\n",
    "    if x not in L :\n",
    "        return [-1]\n",
    "    answer = []\n",
    "    idx=-1\n",
    "    while x in L[idx+1:] :\n",
    "        idx += L[idx+1:].index(x)+1\n",
    "        answer.append(idx)\n",
    "    return answer"
   ]
  },
  {
   "cell_type": "code",
   "execution_count": 38,
   "metadata": {},
   "outputs": [],
   "source": [
    "def solution(L, x) :\n",
    "    if x in L :\n",
    "        return [i for i, v in enumerate(L) if v==x]\n",
    "    else :\n",
    "        return [-1]"
   ]
  },
  {
   "cell_type": "markdown",
   "metadata": {},
   "source": [
    "# 3강 배열 더 알아보기 : 정렬과 탐색"
   ]
  },
  {
   "cell_type": "markdown",
   "metadata": {},
   "source": [
    "1. sorted, sort 메소드\n",
    "2. sorted(L, key=lambda x : len(x), reverse=True)\n",
    "3. sorted(L, key=lambda x : x['name'])\n",
    "3. 정렬된 상태에선 이진 탐색이 가능하다\n",
    "4. 선형 탐색 : O(n) / 이진 탐색 : O(logn)"
   ]
  },
  {
   "cell_type": "markdown",
   "metadata": {},
   "source": [
    "### 이진 탐색\n",
    "리스트 L 과, 그 안에서 찾으려 하는 원소 x 가 인자로 주어질 때, x 와 같은 값을 가지는 원소의 인덱스를 리턴하는 함수 solution() 을 완성하세요. 만약 리스트 L 안에 x 와 같은 값을 가지는 원소가 존재하지 않는 경우에는 -1 을 리턴합니다. 리스트 L 은 자연수 원소들로 이루어져 있으며, 크기 순으로 정렬되어 있다고 가정합니다. 또한, 동일한 원소는 두 번 이상 나타나지 않습니다.\n",
    "\n",
    "예를 들어,\n",
    "L = [2, 3, 5, 6, 9, 11, 15]\n",
    "x = 6\n",
    "의 인자들이 주어지면, L[3] == 6 이므로 3 을 리턴해야 합니다.\n",
    "\n",
    "또 다른 예로,\n",
    "L = [2, 5, 7, 9, 11]\n",
    "x = 4\n",
    "로 주어지면, 리스트 L 내에 4 의 원소가 존재하지 않으므로 -1 을 리턴해야 합니다.\n",
    "\n",
    "이 연습문제에서는 알고리즘의 효율성도 평가합니다. 만약 순차 (선형) 탐색 알고리즘을 구현하는 경우에는 제한 시간 요구사항을 만족하지 못하여 효율성 테스트 케이스들을 통과하지 못할 수도 있습니다."
   ]
  },
  {
   "cell_type": "code",
   "execution_count": 62,
   "metadata": {},
   "outputs": [],
   "source": [
    "def solution(L, x):\n",
    "    start = 0\n",
    "    end = len(L) - 1\n",
    "\n",
    "    while(start <= end):\n",
    "        mid = (start+end) // 2\n",
    "        if L[mid] == x:\n",
    "            return mid\n",
    "        elif L[mid] < x:\n",
    "            start = mid+1\n",
    "        else:\n",
    "            end = mid-1\n",
    "    return -1"
   ]
  },
  {
   "cell_type": "markdown",
   "metadata": {},
   "source": [
    "# 4강 재귀 알고리즘(Recursive Alogorithms) - 기초\n",
    "함수에서 자신을 다시 호출하여 작업을 수행\n",
    "1. 이진 트리에서 사용\n",
    "2. 재귀 함수는 종결조건이 반드시 필요하다.\n",
    "3. 재귀는 항상 반복문으로 작성할 수 있다. \n",
    "4. 재귀 = O(n) / 반복 = O(n)\n",
    "5. But) 함수를 호출하고 리턴하는 과정이 재귀에는 있으므로 효율성을 떨어진다. \n",
    "6. 사람이 생각하는 방식을 표현하기에 좋기에 사용된다.\n",
    "7. n(n+1)/2 = 1~n까지의 합"
   ]
  },
  {
   "cell_type": "markdown",
   "metadata": {},
   "source": [
    "### 피보나치 순열\n",
    "인자로 0 또는 양의 정수인 x 가 주어질 때, Fibonacci 순열의 해당 값을 구하여 반환하는 함수 solution() 을 완성하세요.\n",
    "\n",
    "Fibonacci 순열은 아래와 같이 정의됩니다.\n",
    "F0 = 0\n",
    "F1 = 1\n",
    "Fn = Fn - 1 + Fn - 2, n >= 2\n",
    "\n",
    "재귀함수 작성 연습을 의도한 것이므로, 재귀적 방법으로도 프로그래밍해 보고, 반복적 방법으로도 프로그래밍해 보시기 바랍니다."
   ]
  },
  {
   "cell_type": "code",
   "execution_count": null,
   "metadata": {},
   "outputs": [],
   "source": [
    "def fibonachi(x):\n",
    "    if x <= 1 :\n",
    "        return x\n",
    "    return fibonachi(x-2) + fibonachi(x-1)\n",
    "def solution(x):\n",
    "    answer = fibonachi(x)\n",
    "    return answer"
   ]
  },
  {
   "cell_type": "code",
   "execution_count": null,
   "metadata": {},
   "outputs": [],
   "source": [
    "def solution(x):\n",
    "    if x <=1 :\n",
    "        return x\n",
    "    res = [0, 1]\n",
    "    while x > 1 :\n",
    "        res.append(res[len(res)-2]+res[len(res)-1])\n",
    "        print(res)\n",
    "        x-=1\n",
    "    answer = res[-1]\n",
    "    return answer"
   ]
  },
  {
   "cell_type": "markdown",
   "metadata": {},
   "source": [
    "# 5강 재귀 알고리즘(Recursive Alogorithms) - 응용\n",
    "하노이의 탑 : 반복적인 방법으로 구현하면 효율성은 좋겠지만 구현하기가 매우 복잡"
   ]
  },
  {
   "cell_type": "markdown",
   "metadata": {},
   "source": [
    "L[l] > x or L[u] < x\n",
    "\n",
    "solution(L, x, l, mid-1)\n",
    "\n",
    "solution(L, x, mid+1, u)"
   ]
  }
 ],
 "metadata": {
  "kernelspec": {
   "display_name": "Python 3",
   "language": "python",
   "name": "python3"
  },
  "language_info": {
   "codemirror_mode": {
    "name": "ipython",
    "version": 3
   },
   "file_extension": ".py",
   "mimetype": "text/x-python",
   "name": "python",
   "nbconvert_exporter": "python",
   "pygments_lexer": "ipython3",
   "version": "3.6.5"
  }
 },
 "nbformat": 4,
 "nbformat_minor": 4
}
